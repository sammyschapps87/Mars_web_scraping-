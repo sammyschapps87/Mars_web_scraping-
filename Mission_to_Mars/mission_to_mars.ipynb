{
 "cells": [
  {
   "cell_type": "code",
   "execution_count": 30,
   "metadata": {},
   "outputs": [],
   "source": [
    "import re\n",
    "from bs4 import BeautifulSoup as bs\n",
    "from splinter import Browser\n",
    "import pandas as pd\n",
    "import requests\n",
    "from selenium import webdriver\n",
    "from bson import json_util, ObjectId\n",
    "from pandas.io.json import json_normalize\n",
    "import json"
   ]
  },
  {
   "cell_type": "code",
   "execution_count": 2,
   "metadata": {},
   "outputs": [],
   "source": [
    "path = {'executable_path': './chromedriver.exe'}\n",
    "browser = Browser('chrome', **path, headless = False)\n",
    "url = 'https://redplanetscience.com/'\n",
    "browser.visit(url)\n",
    "html = browser.html\n",
    "soup = bs(html, 'html.parser')\n",
    "\n",
    "\n",
    "\n"
   ]
  },
  {
   "cell_type": "code",
   "execution_count": 3,
   "metadata": {},
   "outputs": [
    {
     "name": "stdout",
     "output_type": "stream",
     "text": [
      "The Extraordinary Sample-Gathering System of NASA's Perseverance Mars Rover\n",
      "Two astronauts collected Moon rocks on Apollo 11. It will take three robotic systems working together to gather up the first Mars rock samples for return to Earth.\n"
     ]
    }
   ],
   "source": [
    "title = soup.find('div', class_ = 'content_title').get_text()\n",
    "print(title)\n",
    "paragraph = soup.find('div', class_ = 'article_teaser_body').get_text()\n",
    "print(paragraph)"
   ]
  },
  {
   "cell_type": "code",
   "execution_count": 4,
   "metadata": {},
   "outputs": [
    {
     "name": "stdout",
     "output_type": "stream",
     "text": [
      "None\n"
     ]
    },
    {
     "data": {
      "text/plain": [
       "'https://spaceimages-mars.com/image/featured/mars2.jpg'"
      ]
     },
     "execution_count": 4,
     "metadata": {},
     "output_type": "execute_result"
    }
   ],
   "source": [
    "\n",
    "path = {'executable_path': 'chromedriver.exe'}\n",
    "browser = Browser('chrome', **path, headless = False)\n",
    "url_image = 'https://spaceimages-mars.com/'\n",
    "browser.visit(url)\n",
    "\n",
    "html = browser.html\n",
    "soup = bs(html, 'html.parser')\n",
    "\n",
    "article = soup.find('img', class_='headerimage fade-in')\n",
    "print(article)\n",
    "\n",
    "full_path = 'https://spaceimages-mars.com/image/featured/mars2.jpg'\n",
    "full_path\n",
    "\n",
    "\n"
   ]
  },
  {
   "cell_type": "code",
   "execution_count": 33,
   "metadata": {},
   "outputs": [
    {
     "data": {
      "text/html": [
       "<div>\n",
       "<style scoped>\n",
       "    .dataframe tbody tr th:only-of-type {\n",
       "        vertical-align: middle;\n",
       "    }\n",
       "\n",
       "    .dataframe tbody tr th {\n",
       "        vertical-align: top;\n",
       "    }\n",
       "\n",
       "    .dataframe thead th {\n",
       "        text-align: right;\n",
       "    }\n",
       "</style>\n",
       "<table border=\"1\" class=\"dataframe\">\n",
       "  <thead>\n",
       "    <tr style=\"text-align: right;\">\n",
       "      <th></th>\n",
       "      <th>Mars - Earth Comparison</th>\n",
       "      <th>Mars</th>\n",
       "      <th>Earth</th>\n",
       "    </tr>\n",
       "  </thead>\n",
       "  <tbody>\n",
       "    <tr>\n",
       "      <th>0</th>\n",
       "      <td>Diameter:</td>\n",
       "      <td>6,779 km</td>\n",
       "      <td>12,742 km</td>\n",
       "    </tr>\n",
       "    <tr>\n",
       "      <th>1</th>\n",
       "      <td>Mass:</td>\n",
       "      <td>6.39 × 10^23 kg</td>\n",
       "      <td>5.97 × 10^24 kg</td>\n",
       "    </tr>\n",
       "    <tr>\n",
       "      <th>2</th>\n",
       "      <td>Moons:</td>\n",
       "      <td>2</td>\n",
       "      <td>1</td>\n",
       "    </tr>\n",
       "    <tr>\n",
       "      <th>3</th>\n",
       "      <td>Distance from Sun:</td>\n",
       "      <td>227,943,824 km</td>\n",
       "      <td>149,598,262 km</td>\n",
       "    </tr>\n",
       "    <tr>\n",
       "      <th>4</th>\n",
       "      <td>Length of Year:</td>\n",
       "      <td>687 Earth days</td>\n",
       "      <td>365.24 days</td>\n",
       "    </tr>\n",
       "    <tr>\n",
       "      <th>5</th>\n",
       "      <td>Temperature:</td>\n",
       "      <td>-87 to -5 °C</td>\n",
       "      <td>-88 to 58°C</td>\n",
       "    </tr>\n",
       "  </tbody>\n",
       "</table>\n",
       "</div>"
      ],
      "text/plain": [
       "  Mars - Earth Comparison             Mars            Earth\n",
       "0               Diameter:         6,779 km        12,742 km\n",
       "1                   Mass:  6.39 × 10^23 kg  5.97 × 10^24 kg\n",
       "2                  Moons:                2                1\n",
       "3      Distance from Sun:   227,943,824 km   149,598,262 km\n",
       "4         Length of Year:   687 Earth days      365.24 days\n",
       "5            Temperature:     -87 to -5 °C      -88 to 58°C"
      ]
     },
     "execution_count": 33,
     "metadata": {},
     "output_type": "execute_result"
    }
   ],
   "source": [
    "url_facts = 'https://galaxyfacts-mars.com/'\n",
    "df_facts = pd.read_html(url_facts, header=0)[0]\n",
    "df_facts\n",
    "df_facts.set_index('Mars - Earth Comparison')\n",
    "\n",
    "df_facts\n",
    "\n"
   ]
  },
  {
   "cell_type": "code",
   "execution_count": 34,
   "metadata": {},
   "outputs": [
    {
     "name": "stderr",
     "output_type": "stream",
     "text": [
      "<ipython-input-34-b38d247f94c2>:4: FutureWarning: pandas.io.json.json_normalize is deprecated, use pandas.json_normalize instead\n",
      "  normalized = json_normalize(sanitized)\n"
     ]
    },
    {
     "data": {
      "text/html": [
       "<div>\n",
       "<style scoped>\n",
       "    .dataframe tbody tr th:only-of-type {\n",
       "        vertical-align: middle;\n",
       "    }\n",
       "\n",
       "    .dataframe tbody tr th {\n",
       "        vertical-align: top;\n",
       "    }\n",
       "\n",
       "    .dataframe thead th {\n",
       "        text-align: right;\n",
       "    }\n",
       "</style>\n",
       "<table border=\"1\" class=\"dataframe\">\n",
       "  <thead>\n",
       "    <tr style=\"text-align: right;\">\n",
       "      <th></th>\n",
       "      <th>Mars - Earth Comparison.0</th>\n",
       "      <th>Mars - Earth Comparison.1</th>\n",
       "      <th>Mars - Earth Comparison.2</th>\n",
       "      <th>Mars - Earth Comparison.3</th>\n",
       "      <th>Mars - Earth Comparison.4</th>\n",
       "      <th>Mars - Earth Comparison.5</th>\n",
       "      <th>Mars.0</th>\n",
       "      <th>Mars.1</th>\n",
       "      <th>Mars.2</th>\n",
       "      <th>Mars.3</th>\n",
       "      <th>Mars.4</th>\n",
       "      <th>Mars.5</th>\n",
       "      <th>Earth.0</th>\n",
       "      <th>Earth.1</th>\n",
       "      <th>Earth.2</th>\n",
       "      <th>Earth.3</th>\n",
       "      <th>Earth.4</th>\n",
       "      <th>Earth.5</th>\n",
       "    </tr>\n",
       "  </thead>\n",
       "  <tbody>\n",
       "    <tr>\n",
       "      <th>0</th>\n",
       "      <td>Diameter:</td>\n",
       "      <td>Mass:</td>\n",
       "      <td>Moons:</td>\n",
       "      <td>Distance from Sun:</td>\n",
       "      <td>Length of Year:</td>\n",
       "      <td>Temperature:</td>\n",
       "      <td>6,779 km</td>\n",
       "      <td>6.39 × 10^23 kg</td>\n",
       "      <td>2</td>\n",
       "      <td>227,943,824 km</td>\n",
       "      <td>687 Earth days</td>\n",
       "      <td>-87 to -5 °C</td>\n",
       "      <td>12,742 km</td>\n",
       "      <td>5.97 × 10^24 kg</td>\n",
       "      <td>1</td>\n",
       "      <td>149,598,262 km</td>\n",
       "      <td>365.24 days</td>\n",
       "      <td>-88 to 58°C</td>\n",
       "    </tr>\n",
       "  </tbody>\n",
       "</table>\n",
       "</div>"
      ],
      "text/plain": [
       "  Mars - Earth Comparison.0 Mars - Earth Comparison.1  \\\n",
       "0                 Diameter:                     Mass:   \n",
       "\n",
       "  Mars - Earth Comparison.2 Mars - Earth Comparison.3  \\\n",
       "0                    Moons:        Distance from Sun:   \n",
       "\n",
       "  Mars - Earth Comparison.4 Mars - Earth Comparison.5    Mars.0  \\\n",
       "0           Length of Year:              Temperature:  6,779 km   \n",
       "\n",
       "            Mars.1 Mars.2          Mars.3          Mars.4        Mars.5  \\\n",
       "0  6.39 × 10^23 kg      2  227,943,824 km  687 Earth days  -87 to -5 °C   \n",
       "\n",
       "     Earth.0          Earth.1 Earth.2         Earth.3      Earth.4  \\\n",
       "0  12,742 km  5.97 × 10^24 kg       1  149,598,262 km  365.24 days   \n",
       "\n",
       "       Earth.5  \n",
       "0  -88 to 58°C  "
      ]
     },
     "execution_count": 34,
     "metadata": {},
     "output_type": "execute_result"
    }
   ],
   "source": [
    "def mongo_to_dataframe(mongo_data):\n",
    "\n",
    "    sanitized = json.loads(json_util.dumps(mongo_data))\n",
    "    normalized = json_normalize(sanitized)\n",
    "    df = pd.DataFrame(normalized)\n",
    "\n",
    "    return df\n",
    "\n",
    "mongo_to_dataframe(df_facts) "
   ]
  },
  {
   "cell_type": "code",
   "execution_count": 6,
   "metadata": {},
   "outputs": [
    {
     "data": {
      "text/plain": [
       "[{'title': 'Cerberus Hemisphere',\n",
       "  'img_url': 'https://redplanetscience.com/images/full.jpg'},\n",
       " {'title': 'Schiaparelli Hemisphere',\n",
       "  'img_url': 'https://redplanetscience.com/images/schiaparelli_enhanced-full.jpg'},\n",
       " {'title': 'Syrtis Major Hemisphere',\n",
       "  'img_url': 'https://redplanetscience.com/images/syrtis_major_enhanced-full.jpg'},\n",
       " {'title': 'Valles Marineris Hemisphere',\n",
       "  'img_url': 'https://redplanetscience.com/images/valles_marineris_enhanced-full.jpg'}]"
      ]
     },
     "execution_count": 6,
     "metadata": {},
     "output_type": "execute_result"
    }
   ],
   "source": [
    "path = {'executable_path': 'chromedriver.exe'}\n",
    "browser = Browser('chrome', **path, headless = False)\n",
    "url_images_2 = 'https://marshemispheres.com/'\n",
    "browser.visit(url_images_2)\n",
    "html = browser.html\n",
    "soup = bs(html, 'html.parser')\n",
    "\n",
    "h3 = soup.find_all('h3')[0:-1]\n",
    "\n",
    "\n",
    "images_hemisphere = []\n",
    "\n",
    "\n",
    "\n",
    "for i in h3:\n",
    "    titles = i.text\n",
    "    browser.links.find_by_partial_text(titles).click()\n",
    "    html_en = browser.html\n",
    "    soup_en = bs(html_en, 'html.parser')\n",
    "    title = soup_en.find('h2', class_='title').text.replace('Enhanced', '').strip()\n",
    "    sample = soup_en.find('li')\n",
    "    imgurl = sample.find('a')['href']\n",
    "    imgurl = url + imgurl\n",
    "\n",
    "    hemi_dict = {'title': title, 'img_url': imgurl}\n",
    "    images_hemisphere.append(hemi_dict)\n",
    "    browser.links.find_by_partial_text('Back').click()\n",
    "\n",
    "images_hemisphere\n",
    "\n",
    "\n",
    "\n",
    "# html = browser.html\n",
    "# soup = bs(html, 'html.parser')\n",
    "# pic_link = bs(requests.get(\"https://marshemispheres.com/\").text, \"html.parser\")\n",
    "# # small_images = soup.find('a', class_ = 'itemlink product-item')\n",
    "\n",
    "# image_list = []\n",
    "# for a in list(pic_link):\n",
    "#     f = soup.find('a', class_='itemLink product-item')\n",
    "    \n",
    "# f\n",
    "# def init_browser():\n",
    "#     executable_path = {\"executable_path\": \"chromedriver.exe\"}\n",
    "#     return Browser(\"chrome\", **executable_path, headless=False)\n",
    "\n",
    "# browser = init_browser()\n",
    "# url_images2 = 'https://marshemispheres.com/'\n",
    "# browser.visit(url_images2)\n",
    "\n",
    "# # browser.links.find_by_partial_text(\"Hemisphere Enhanced\")\n",
    "# listt = []\n",
    "# b = browser.links.find_by_partial_text('Hemisphere Enhanced')\n",
    "# b = (list(b))\n",
    "# listt = listt.append(b)\n",
    "# print(listt)\n",
    "# for i in list(b):\n",
    "#     browser.click_link_by_partial_text('Hemisphere Enhanced')\n",
    "\n",
    "# browser.click_link_by_partial_text('Sample')\n",
    "# # more_info_element.click()\n",
    "\n",
    "# html = browser.html\n",
    "\n",
    "# image_soup = bs(html)\n",
    "# image_url = \n",
    "\n"
   ]
  },
  {
   "cell_type": "code",
   "execution_count": 39,
   "metadata": {},
   "outputs": [
    {
     "data": {
      "text/plain": [
       "{'news_title': 'Valles Marineris Hemisphere',\n",
       " 'news_paragraph': 'Two astronauts collected Moon rocks on Apollo 11. It will take three robotic systems working together to gather up the first Mars rock samples for return to Earth.',\n",
       " 'featured_image': 'https://redplanetscience.com/images/valles_marineris_enhanced-full.jpg',\n",
       " 'facts': '{\"Mars - Earth Comparison\":{\"0\":\"Diameter:\",\"1\":\"Mass:\",\"2\":\"Moons:\",\"3\":\"Distance from Sun:\",\"4\":\"Length of Year:\",\"5\":\"Temperature:\"},\"Mars\":{\"0\":\"6,779 km\",\"1\":\"6.39 \\\\u00d7 10^23 kg\",\"2\":\"2\",\"3\":\"227,943,824 km\",\"4\":\"687 Earth days\",\"5\":\"-87 to -5 \\\\u00b0C\"},\"Earth\":{\"0\":\"12,742 km\",\"1\":\"5.97 \\\\u00d7 10^24 kg\",\"2\":\"1\",\"3\":\"149,598,262 km\",\"4\":\"365.24 days\",\"5\":\"-88 to 58\\\\u00b0C\"}}',\n",
       " 'hemiospheres': [{'title': 'Cerberus Hemisphere',\n",
       "   'img_url': 'https://redplanetscience.com/images/full.jpg'},\n",
       "  {'title': 'Schiaparelli Hemisphere',\n",
       "   'img_url': 'https://redplanetscience.com/images/schiaparelli_enhanced-full.jpg'},\n",
       "  {'title': 'Syrtis Major Hemisphere',\n",
       "   'img_url': 'https://redplanetscience.com/images/syrtis_major_enhanced-full.jpg'},\n",
       "  {'title': 'Valles Marineris Hemisphere',\n",
       "   'img_url': 'https://redplanetscience.com/images/valles_marineris_enhanced-full.jpg'}]}"
      ]
     },
     "execution_count": 39,
     "metadata": {},
     "output_type": "execute_result"
    }
   ],
   "source": [
    "\n",
    "df = {\n",
    "    'news_title': title,\n",
    "    'news_paragraph': paragraph,\n",
    "    'featured_image': imgurl,\n",
    "    'facts': df_facts.to_json(),\n",
    "    'hemiospheres': images_hemisphere\n",
    "}\n",
    "\n",
    "\n",
    "\n",
    "\n",
    "# df.to_excel('test.xlsx')\n"
   ]
  },
  {
   "cell_type": "code",
   "execution_count": 7,
   "metadata": {},
   "outputs": [],
   "source": [
    "browser.quit()"
   ]
  },
  {
   "cell_type": "code",
   "execution_count": null,
   "metadata": {},
   "outputs": [],
   "source": []
  }
 ],
 "metadata": {
  "interpreter": {
   "hash": "b3ba2566441a7c06988d0923437866b63cedc61552a5af99d1f4fb67d367b25f"
  },
  "kernelspec": {
   "display_name": "Python 3.8.8 64-bit ('base': conda)",
   "name": "python3"
  },
  "language_info": {
   "codemirror_mode": {
    "name": "ipython",
    "version": 3
   },
   "file_extension": ".py",
   "mimetype": "text/x-python",
   "name": "python",
   "nbconvert_exporter": "python",
   "pygments_lexer": "ipython3",
   "version": "3.8.8"
  },
  "orig_nbformat": 4
 },
 "nbformat": 4,
 "nbformat_minor": 2
}
